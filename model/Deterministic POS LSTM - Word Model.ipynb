{
 "cells": [
  {
   "cell_type": "markdown",
   "metadata": {},
   "source": [
    "# Deterministic POS Word Level Language Model with Penn Treebank\n",
    "Sequence Tagger: https://pytorch.org/tutorials/beginner/nlp/sequence_models_tutorial.html<br>\n",
    "Penn Treebank: http://citeseerx.ist.psu.edu/viewdoc/download?doi=10.1.1.9.8216&rep=rep1&type=pdf"
   ]
  },
  {
   "cell_type": "markdown",
   "metadata": {},
   "source": [
    "https://gist.github.com/williamFalcon/f27c7b90e34b4ba88ced042d9ef33edd <br>\n",
    "https://stanford.edu/~shervine/blog/pytorch-how-to-generate-data-parallel"
   ]
  },
  {
   "cell_type": "code",
   "execution_count": 1,
   "metadata": {},
   "outputs": [],
   "source": [
    "import numpy as np\n",
    "import nltk\n",
    "from nltk.corpus import treebank\n",
    "import os\n",
    "import codecs"
   ]
  },
  {
   "cell_type": "code",
   "execution_count": 2,
   "metadata": {},
   "outputs": [
    {
     "name": "stderr",
     "output_type": "stream",
     "text": [
      "[nltk_data] Downloading package treebank to /home/tyler/nltk_data...\n",
      "[nltk_data]   Package treebank is already up-to-date!\n",
      "[nltk_data] Downloading package universal_tagset to\n",
      "[nltk_data]     /home/tyler/nltk_data...\n",
      "[nltk_data]   Package universal_tagset is already up-to-date!\n"
     ]
    },
    {
     "data": {
      "text/plain": [
       "True"
      ]
     },
     "execution_count": 2,
     "metadata": {},
     "output_type": "execute_result"
    }
   ],
   "source": [
    "nltk.download('treebank')\n",
    "nltk.download('universal_tagset')"
   ]
  },
  {
   "cell_type": "code",
   "execution_count": 3,
   "metadata": {},
   "outputs": [
    {
     "data": {
      "text/plain": [
       "<torch._C.Generator at 0x7fc993cb5270>"
      ]
     },
     "execution_count": 3,
     "metadata": {},
     "output_type": "execute_result"
    }
   ],
   "source": [
    "import torch\n",
    "import torch.nn as nn\n",
    "import torch.nn.functional as F\n",
    "import torch.optim as optim\n",
    "\n",
    "torch.manual_seed(1)"
   ]
  },
  {
   "cell_type": "code",
   "execution_count": 4,
   "metadata": {},
   "outputs": [],
   "source": [
    "from IPython.display import clear_output"
   ]
  },
  {
   "cell_type": "code",
   "execution_count": 5,
   "metadata": {},
   "outputs": [],
   "source": [
    "import pyro\n",
    "from pyro.distributions import Normal, Categorical\n",
    "from pyro.infer import SVI, Trace_ELBO\n",
    "from pyro.optim import Adam\n",
    "\n",
    "pyro.enable_validation(True)\n",
    "pyro.clear_param_store()"
   ]
  },
  {
   "cell_type": "markdown",
   "metadata": {},
   "source": [
    "# An LSTM for Part-of-Speech Tagging"
   ]
  },
  {
   "cell_type": "markdown",
   "metadata": {},
   "source": [
    "### Load Data"
   ]
  },
  {
   "cell_type": "code",
   "execution_count": 6,
   "metadata": {},
   "outputs": [],
   "source": [
    "# Penn tree bank\n",
    "sentences = treebank.tagged_sents(tagset='universal')"
   ]
  },
  {
   "cell_type": "raw",
   "metadata": {},
   "source": [
    "samples = 5000\n",
    "sentences = sentences[:samples]"
   ]
  },
  {
   "cell_type": "code",
   "execution_count": 7,
   "metadata": {},
   "outputs": [],
   "source": [
    "def format_sequence(seq):\n",
    "    \"\"\"\n",
    "    Formats penn treebank POS format into tuple ([tokens], [POS])\n",
    "    \"\"\"\n",
    "    tokens = [x[0] for x in seq]\n",
    "    tags = [x[1] for x in seq]\n",
    "    return (tokens, tags)"
   ]
  },
  {
   "cell_type": "code",
   "execution_count": 8,
   "metadata": {},
   "outputs": [],
   "source": [
    "sentences = [format_sequence(sentence) for sentence in sentences]"
   ]
  },
  {
   "cell_type": "code",
   "execution_count": 15,
   "metadata": {},
   "outputs": [],
   "source": [
    "def data_vocab(sentences):\n",
    "    \"\"\"Builds vocab based on input data\"\"\"\n",
    "    vocab = dict()\n",
    "    for sentence in sentences:\n",
    "        for word in sentence[0]:\n",
    "            if word not in vocab:\n",
    "                vocab[word] = len(vocab) + 1    # counts from 1+ as 0 is reserved for <PAD> token\n",
    "    return vocab"
   ]
  },
  {
   "cell_type": "code",
   "execution_count": 16,
   "metadata": {},
   "outputs": [],
   "source": [
    "# Vocab of input data (this will likely be a subset of any word embedding array)\n",
    "data_vocab = data_vocab(sentences)"
   ]
  },
  {
   "cell_type": "code",
   "execution_count": 18,
   "metadata": {},
   "outputs": [],
   "source": [
    "# Add padding token to data vocab\n",
    "data_vocab['<PAD>'] = 0"
   ]
  },
  {
   "cell_type": "markdown",
   "metadata": {},
   "source": [
    "### Build generator for data batching"
   ]
  },
  {
   "cell_type": "code",
   "execution_count": null,
   "metadata": {},
   "outputs": [],
   "source": []
  },
  {
   "cell_type": "markdown",
   "metadata": {},
   "source": [
    "## Prepare data"
   ]
  },
  {
   "cell_type": "code",
   "execution_count": 20,
   "metadata": {},
   "outputs": [],
   "source": [
    "# Train/Test split\n",
    "split_ratio = 0.80\n",
    "training_data = sentences[:int(len(sentences)*split_ratio)]\n",
    "test_data = sentences[len(training_data):]"
   ]
  },
  {
   "cell_type": "code",
   "execution_count": 21,
   "metadata": {},
   "outputs": [
    {
     "name": "stdout",
     "output_type": "stream",
     "text": [
      "Dataset Size: 3914 | Training Set Size: 3131 | Test Set Size: 783\n"
     ]
    }
   ],
   "source": [
    "print(f'Dataset Size: {len(sentences)} | Training Set Size: {len(training_data)} | Test Set Size: {len(test_data)}')"
   ]
  },
  {
   "cell_type": "raw",
   "metadata": {},
   "source": [
    "training_data = [\n",
    "    (\"The dog ate the apple\".split(), [\"DET\", \"NN\", \"V\", \"DET\", \"NN\"]),\n",
    "    (\"Everybody read that book\".split(), [\"NN\", \"V\", \"DET\", \"NN\"]),\n",
    "    (\"John likes the blue house at the end of the street\".split(), [\"NN\", \"V\", \"DET\", \"ADJ\", \"NN\", \"PREP\", \"DET\", \"NN\", \"PREP\", \"DET\", \"NN\"])\n",
    "]"
   ]
  },
  {
   "cell_type": "code",
   "execution_count": 35,
   "metadata": {},
   "outputs": [],
   "source": [
    "word_to_ix = {}\n",
    "for sent, tags in sentences:   # training_data\n",
    "#     print(sent, tags)\n",
    "    for word in sent:\n",
    "        if word not in word_to_ix:\n",
    "            word_to_ix[word] = len(word_to_ix) + 1\n",
    "# print(word_to_ix)"
   ]
  },
  {
   "cell_type": "code",
   "execution_count": 36,
   "metadata": {},
   "outputs": [],
   "source": [
    "# Create tag-index lookups\n",
    "tag_to_ix = {}\n",
    "for _, tags in sentences:\n",
    "    for tag in tags:\n",
    "        if tag not in tag_to_ix:\n",
    "            tag_to_ix[tag] = len(tag_to_ix) + 1\n",
    "\n",
    "ix_to_tag = {v:k for k, v in tag_to_ix.items()}"
   ]
  },
  {
   "cell_type": "raw",
   "metadata": {},
   "source": [
    "ix_to_tag = {0:\"DET\", 1:\"NN\", 2:\"V\", 3: \"ADJ\", 4: \"PREP\"}\n",
    "tag_to_ix = {\"DET\":0, \"NN\":1, \"V\":2, \"ADJ\": 3, \"PREP\":4}"
   ]
  },
  {
   "cell_type": "code",
   "execution_count": 37,
   "metadata": {},
   "outputs": [
    {
     "name": "stdout",
     "output_type": "stream",
     "text": [
      "Word dictionary size: 12408\n",
      "Tag dictionary size: 12\n"
     ]
    }
   ],
   "source": [
    "print(f'Word dictionary size: {len(word_to_ix)}')\n",
    "print(f'Tag dictionary size: {len(tag_to_ix)}')"
   ]
  },
  {
   "cell_type": "code",
   "execution_count": 55,
   "metadata": {},
   "outputs": [],
   "source": [
    "# add padding to word dict\n",
    "word_to_ix['<PAD>'] = 0"
   ]
  },
  {
   "cell_type": "code",
   "execution_count": 51,
   "metadata": {},
   "outputs": [],
   "source": [
    "# add padding to tag dict\n",
    "tag_to_ix['<PAD>'] = 0"
   ]
  },
  {
   "cell_type": "code",
   "execution_count": 81,
   "metadata": {},
   "outputs": [
    {
     "data": {
      "text/plain": [
       "13"
      ]
     },
     "execution_count": 81,
     "metadata": {},
     "output_type": "execute_result"
    }
   ],
   "source": [
    "len(tag_to_ix)"
   ]
  },
  {
   "cell_type": "code",
   "execution_count": 38,
   "metadata": {},
   "outputs": [],
   "source": [
    "def prepare_sequence(seq, to_ix):\n",
    "    \"\"\"Encodes sentence tokens as ids from word_to_ix dictionary\"\"\"\n",
    "    idxs = [to_ix[w] for w in seq]\n",
    "    return torch.tensor(idxs, dtype=torch.long)"
   ]
  },
  {
   "cell_type": "code",
   "execution_count": 39,
   "metadata": {},
   "outputs": [],
   "source": [
    "def prepare_seq_batch(batch, to_ix, pad_len, pad_token_id=0):\n",
    "    \"\"\"Encodes batch of sequences as ids from word_to_ix dictionary and pads\"\"\"\n",
    "    batch_size = len(batch)\n",
    "    padded_batch = np.full((batch_size, pad_len), pad_token_id)\n",
    "    seq_lens = [len(seq) for seq in batch]\n",
    "    \n",
    "    for i, seq in enumerate(batch):\n",
    "        # encode tokens as ids\n",
    "        idxs = [to_ix[w] for w in seq]    \n",
    "        # pad length\n",
    "        padded_batch[i,0:len(idxs)] = idxs\n",
    "        \n",
    "    return torch.tensor(padded_batch, dtype=torch.long)"
   ]
  },
  {
   "cell_type": "code",
   "execution_count": 40,
   "metadata": {},
   "outputs": [],
   "source": [
    "batch = [sentences[0][0], sentences[1][0], sentences[2][0]]"
   ]
  },
  {
   "cell_type": "code",
   "execution_count": 41,
   "metadata": {},
   "outputs": [
    {
     "data": {
      "text/plain": [
       "['Pierre',\n",
       " 'Vinken',\n",
       " ',',\n",
       " '61',\n",
       " 'years',\n",
       " 'old',\n",
       " ',',\n",
       " 'will',\n",
       " 'join',\n",
       " 'the',\n",
       " 'board',\n",
       " 'as',\n",
       " 'a',\n",
       " 'nonexecutive',\n",
       " 'director',\n",
       " 'Nov.',\n",
       " '29',\n",
       " '.']"
      ]
     },
     "execution_count": 41,
     "metadata": {},
     "output_type": "execute_result"
    }
   ],
   "source": [
    "sentences[0][0]"
   ]
  },
  {
   "cell_type": "code",
   "execution_count": 42,
   "metadata": {},
   "outputs": [
    {
     "data": {
      "text/plain": [
       "tensor([27, 28,  3, 29,  5,  6, 30, 31, 20, 21, 32, 33, 34, 35,  3, 36, 37, 38,\n",
       "        12, 13, 14, 21, 39, 40, 41, 42, 17])"
      ]
     },
     "execution_count": 42,
     "metadata": {},
     "output_type": "execute_result"
    }
   ],
   "source": [
    "prepare_sequence(sentences[2][0], word_to_ix)"
   ]
  },
  {
   "cell_type": "code",
   "execution_count": 43,
   "metadata": {},
   "outputs": [
    {
     "data": {
      "text/plain": [
       "tensor([[ 1,  2,  3,  4,  5,  6,  3,  7,  8,  9, 10, 11, 12, 13, 14, 15, 16, 17,\n",
       "          0,  0,  0,  0,  0,  0,  0,  0,  0,  0,  0,  0],\n",
       "        [18,  2, 19, 20, 21, 22, 23,  3,  9, 24, 25, 26, 17,  0,  0,  0,  0,  0,\n",
       "          0,  0,  0,  0,  0,  0,  0,  0,  0,  0,  0,  0],\n",
       "        [27, 28,  3, 29,  5,  6, 30, 31, 20, 21, 32, 33, 34, 35,  3, 36, 37, 38,\n",
       "         12, 13, 14, 21, 39, 40, 41, 42, 17,  0,  0,  0]])"
      ]
     },
     "execution_count": 43,
     "metadata": {},
     "output_type": "execute_result"
    }
   ],
   "source": [
    "prepare_seq_batch(batch, word_to_ix, 30)"
   ]
  },
  {
   "cell_type": "code",
   "execution_count": 47,
   "metadata": {},
   "outputs": [],
   "source": [
    "def prepare_targets_batch(batch, to_ix, pad_len, pad_token_id=0):\n",
    "    \"\"\"Encodes batch of sequence targets as ids from target_to_ix dictionary and pads length\"\"\"\n",
    "    batch_size = len(batch)\n",
    "    padded_batch = np.full((batch_size, pad_len), pad_token_id)\n",
    "    targets_lens = [len(targets) for targets in batch]\n",
    "    \n",
    "    for i, targets in enumerate(batch):\n",
    "        # encode targets as ids\n",
    "        idxs = [to_ix[target] for target in targets]\n",
    "        # pad length\n",
    "        padded_batch[i, 0:len(idxs)] = idxs\n",
    "    \n",
    "    return torch.tensor(padded_batch, dtype=torch.long)"
   ]
  },
  {
   "cell_type": "code",
   "execution_count": 48,
   "metadata": {},
   "outputs": [],
   "source": [
    "targets_batch = [sentences[0][1], sentences[1][1], sentences[2][1]]"
   ]
  },
  {
   "cell_type": "code",
   "execution_count": 49,
   "metadata": {},
   "outputs": [
    {
     "data": {
      "text/plain": [
       "tensor([[1, 1, 2, 3, 1, 4, 2, 5, 5, 6, 1, 7, 6, 4, 1, 1, 3, 2, 0, 0, 0, 0, 0, 0,\n",
       "         0, 0, 0, 0, 0, 0],\n",
       "        [1, 1, 5, 1, 7, 1, 1, 2, 6, 1, 5, 1, 2, 0, 0, 0, 0, 0, 0, 0, 0, 0, 0, 0,\n",
       "         0, 0, 0, 0, 0, 0],\n",
       "        [1, 1, 2, 3, 1, 4, 8, 4, 1, 7, 1, 1, 1, 1, 2, 5, 5, 9, 6, 4, 1, 7, 6, 4,\n",
       "         4, 1, 2, 0, 0, 0]])"
      ]
     },
     "execution_count": 49,
     "metadata": {},
     "output_type": "execute_result"
    }
   ],
   "source": [
    "prepare_targets_batch(targets_batch, tag_to_ix, 30)"
   ]
  },
  {
   "cell_type": "code",
   "execution_count": null,
   "metadata": {},
   "outputs": [],
   "source": []
  },
  {
   "cell_type": "code",
   "execution_count": null,
   "metadata": {},
   "outputs": [],
   "source": []
  },
  {
   "cell_type": "markdown",
   "metadata": {},
   "source": [
    "### Create LSTM model"
   ]
  },
  {
   "cell_type": "code",
   "execution_count": 74,
   "metadata": {},
   "outputs": [],
   "source": [
    "class LSTMTagger(nn.Module):\n",
    "    def __init__(self,\n",
    "                 embedding_dim,\n",
    "                 hidden_dim,\n",
    "                 vocab,\n",
    "                 tagset_size,\n",
    "                 batch_size=32,\n",
    "                 pretrained_embeddings=None):\n",
    "        \n",
    "        super(LSTMTagger, self).__init__()\n",
    "        \n",
    "        self.hidden_dim = hidden_dim\n",
    "        self.batch_size = batch_size\n",
    "        self.num_layers = 1\n",
    "        self.embedding_dim = embedding_dim\n",
    "        self.vocab = vocab\n",
    "        self.vocab_size = len(self.vocab)\n",
    "        self.tagset_size = tagset_size - 1 # minus <TAG>\n",
    "        self.padding_idx = self.vocab['<PAD>']\n",
    "        \n",
    "        \n",
    "        self.word_embeddings = nn.Embedding(num_embeddings=self.vocab_size,\n",
    "                                            embedding_dim=self.embedding_dim,\n",
    "                                            padding_idx=self.padding_idx)\n",
    "        \n",
    "        if pretrained_embeddings is not None:\n",
    "            self.word_embeddings.weight.data.copy_(torch.from_numpy(pretrained_embeddings))\n",
    "            self.word_embeddings.weight.requires_grad = False\n",
    "        \n",
    "        self.hidden = self.init_hidden()\n",
    "\n",
    "        # The LSTM takes word embeddings as inputs, and outputs hidden states\n",
    "        # with dimensionality hidden_dim.\n",
    "        # If batch_first is true the input/output tensors are provided as (batch, seq, feature)\n",
    "        self.lstm = nn.LSTM(input_size=self.embedding_dim,\n",
    "                            hidden_size=self.hidden_dim,\n",
    "                            num_layers=self.num_layers,\n",
    "                            batch_first=True)\n",
    "\n",
    "        # The linear layer that maps from hidden state space to tag space\n",
    "        self.out = nn.Linear(in_features=self.hidden_dim,\n",
    "                             out_features=self.tagset_size)\n",
    "\n",
    "    def init_hidden(self):\n",
    "        \"\"\"\n",
    "        Initialises weights for hidden layers of LSTM\n",
    "        Weights are in the form of (num_layers, batch_size, embedding_dim)\"\"\"\n",
    "        return (torch.zeros(self.num_layers, self.batch_size, self.hidden_dim))\n",
    "        \n",
    "    def forward(self, X, X_lengths):\n",
    "        \"\"\"\"\"\"\n",
    "        self.hidden = self.init_hidden()\n",
    "        \n",
    "        batch_size, seq_len, _ = X.size()\n",
    "        \n",
    "        X = self.word_embeddings(X)\n",
    "        \n",
    "        X = torch.nn.utils.rnn.pack_padded_sequence(X, X_lengths, batch_first=True)\n",
    "        \n",
    "        X, self.hidden = self.lstm(X, self.hidden)\n",
    "        \n",
    "        X, _ = torch.nn.utils.nn.pad_packed_sequence(X, batch_first=True)\n",
    "        \n",
    "        X = X.contiguous()\n",
    "        X = X.view(-1, X.shape[2])\n",
    "        \n",
    "        X = self.out(X)\n",
    "        \n",
    "        X = F.log_softmax(X, dim=1)\n",
    "        \n",
    "        X = X.view(batch_size, seq_len, self.tagset_size)\n",
    "        \n",
    "        Y_hat = X\n",
    "        return Y_hat\n",
    "        \n",
    "        \n",
    "#         embeds = self.word_embeddings(X)\n",
    "#         lstm_out, _ = self.lstm(embeds.view(len(X), 1, -1))\n",
    "#         tag_space = self.out(lstm_out.view(len(X), -1))\n",
    "#         tag_scores = F.log_softmax(tag_space, dim=1)\n",
    "#         return tag_scores\n",
    "    \n",
    "        \n",
    "    def loss(self, Y_hat, Y, X_lengths):\n",
    "        \"\"\"\"\"\"\n",
    "        \n",
    "        Y = y.view(-1)\n",
    "        \n",
    "        Y_hat = Y_hat.view(-1, self.tagset_size)\n",
    "        \n",
    "        tag_pad_token = self.tags['<PAD>']\n",
    "        mask = (Y > tag_pad_token).float()\n",
    "        \n",
    "        num_tokens = int(torch.sum(mask).data[0])\n",
    "        \n",
    "        Y_hat = Y_hat[range(Y_hat.shape[0]), Y] * mask\n",
    "        \n",
    "        ce_loss = -torch.sum(Y_hat) / num_tokens\n",
    "        \n",
    "        return ce_loss"
   ]
  },
  {
   "cell_type": "markdown",
   "metadata": {},
   "source": [
    "### Initialise the NN model"
   ]
  },
  {
   "cell_type": "raw",
   "metadata": {},
   "source": [
    "def loadGloveModel(File):\n",
    "    print(\"Loading Glove Model\")\n",
    "    f = open(File,'r')\n",
    "    gloveModel = {}\n",
    "    for line in f:\n",
    "        splitLines = line.split()\n",
    "        word = splitLines[0]\n",
    "        wordEmbedding = np.array([float(value) for value in splitLines[1:]])\n",
    "        gloveModel[word] = wordEmbedding\n",
    "    print(len(gloveModel),\" words loaded!\")\n",
    "    return gloveModel"
   ]
  },
  {
   "cell_type": "code",
   "execution_count": 75,
   "metadata": {},
   "outputs": [],
   "source": [
    "path_to_embeddings = './data/embeddings/glove.6B.300d.txt'\n",
    "path_to_trimmed_embeddings = './data/embeddings/trimmed_emb.npz'"
   ]
  },
  {
   "cell_type": "raw",
   "metadata": {},
   "source": [
    "gloveModel = loadGloveModel(path_to_embeddings)"
   ]
  },
  {
   "cell_type": "raw",
   "metadata": {},
   "source": [
    "emb_vocab = set(gloveModel.keys())"
   ]
  },
  {
   "cell_type": "raw",
   "metadata": {},
   "source": [
    "# https://github.com/Michael-Stewart-Webdev/pytorch-lexnorm/blob/master/build_data.py\n",
    "# https://leakyrelu.com/2019/10/18/using-glove-word-embeddings-with-seq2seq-encoder-decoder-in-pytorch/\n",
    "def export_emb_vectors(data_vocab, emb_filename, trimmed_emb_filename, dim):\n",
    "    \"\"\"\n",
    "    \n",
    "    \"\"\"\n",
    "    embeddings = np.zeros([len(data_vocab), dim])\n",
    "\n",
    "    with codecs.open(emb_filename, 'r', 'utf-8') as f:\n",
    "        for line in f:\n",
    "            line = line.strip().split(' ')\n",
    "            word = line[0]\n",
    "            embedding = [float(x) for x in line[1:]]\n",
    "            if word in data_vocab:\n",
    "                word_idx = data_vocab[word]\n",
    "                clear_output(wait=True)\n",
    "                print(word, word_idx)\n",
    "                \n",
    "                embeddings[word_idx] = np.asarray(embedding)\n",
    "    \n",
    "    np.savez_compressed(trimmed_emb_filename, embeddings=embeddings)\n",
    "    print('Saved trimmed embeddings to disk')"
   ]
  },
  {
   "cell_type": "raw",
   "metadata": {},
   "source": [
    "export_emb_vectors(data_vocab, path_to_embeddings, path_to_trimmed_embeddings, 300)"
   ]
  },
  {
   "cell_type": "code",
   "execution_count": 76,
   "metadata": {},
   "outputs": [],
   "source": [
    "# Load trimmed embeddings from disk\n",
    "pretrained_embeddings = np.load(path_to_trimmed_embeddings)"
   ]
  },
  {
   "cell_type": "code",
   "execution_count": 77,
   "metadata": {},
   "outputs": [
    {
     "data": {
      "text/plain": [
       "(12409, 300)"
      ]
     },
     "execution_count": 77,
     "metadata": {},
     "output_type": "execute_result"
    }
   ],
   "source": [
    "# Check embedding shape\n",
    "pretrained_embeddings['embeddings'].shape"
   ]
  },
  {
   "cell_type": "code",
   "execution_count": 78,
   "metadata": {},
   "outputs": [],
   "source": [
    "EMBEDDING_DIM = 300   # Glove 300\n",
    "HIDDEN_DIM = 32"
   ]
  },
  {
   "cell_type": "code",
   "execution_count": 79,
   "metadata": {},
   "outputs": [],
   "source": [
    "lstm_net = LSTMTagger(embedding_dim=EMBEDDING_DIM,\n",
    "                      hidden_dim=HIDDEN_DIM,\n",
    "                      vocab=data_vocab,\n",
    "                      tagset_size=len(tag_to_ix),\n",
    "                      pretrained_embeddings=pretrained_embeddings['embeddings'])\n",
    "loss_function = nn.NLLLoss()\n",
    "optimizer = optim.SGD(lstm_net.parameters(), lr=0.1)"
   ]
  },
  {
   "cell_type": "code",
   "execution_count": 80,
   "metadata": {},
   "outputs": [
    {
     "name": "stdout",
     "output_type": "stream",
     "text": [
      "LSTMTagger(\n",
      "  (word_embeddings): Embedding(12409, 300, padding_idx=0)\n",
      "  (lstm): LSTM(300, 32, batch_first=True)\n",
      "  (out): Linear(in_features=32, out_features=12, bias=True)\n",
      ")\n"
     ]
    }
   ],
   "source": [
    "print(lstm_net)"
   ]
  },
  {
   "cell_type": "markdown",
   "metadata": {},
   "source": [
    "### Train standard NN model"
   ]
  },
  {
   "cell_type": "code",
   "execution_count": null,
   "metadata": {},
   "outputs": [],
   "source": [
    "for epoch in range(2):  # again, normally you would NOT do 300 epochs, it is toy data\n",
    "    for sentence, tags in training_data:\n",
    "        # Step 1. Remember that Pytorch accumulates gradients.\n",
    "        # We need to clear them out before each instance\n",
    "        lstm_net.zero_grad()\n",
    "\n",
    "        # Step 2. Get our inputs ready for the network, that is, turn them into\n",
    "        # Tensors of word indices.\n",
    "        sentence_in = prepare_sequence(sentence, word_to_ix)\n",
    "        targets = prepare_sequence(tags, tag_to_ix)\n",
    "\n",
    "        # Step 3. Run our forward pass.\n",
    "        tag_scores = lstm_net(sentence_in)\n",
    "\n",
    "        # Step 4. Compute the loss, gradients, and update the parameters by\n",
    "        #  calling optimizer.step()\n",
    "        loss = loss_function(tag_scores, targets)\n",
    "        loss.backward()\n",
    "        optimizer.step()\n",
    "    \n",
    "    if epoch % 1 == 0:\n",
    "        print(f'Epoch: {epoch} - Loss: {loss}')"
   ]
  },
  {
   "cell_type": "code",
   "execution_count": null,
   "metadata": {},
   "outputs": [],
   "source": [
    "# helper function for deterministic nn inference\n",
    "def tag_score_to_tag_name(tag_score, ix_to_tag):\n",
    "    \"\"\"Converts tag score to tag names\"\"\"\n",
    "    return ix_to_tag.get(torch.argmax(tag_score).item())"
   ]
  },
  {
   "cell_type": "code",
   "execution_count": null,
   "metadata": {},
   "outputs": [],
   "source": [
    "# Single test example\n",
    "test_data_sm = test_data[:1]"
   ]
  },
  {
   "cell_type": "code",
   "execution_count": null,
   "metadata": {},
   "outputs": [],
   "source": [
    "# Inference\n",
    "with torch.no_grad():\n",
    "    inputs = prepare_sequence(test_data_sm[0][0], word_to_ix)\n",
    "    tag_scores = lstm_net(inputs)\n",
    "    \n",
    "#     print(f'Tag Scores:\\n{tag_scores}\\n')\n",
    "    print(f'{\"Token\":<20} {\"Pred\":<10} {\"Actual\":<10}')\n",
    "    print(f'{\"-----\":<20} {\"----\":<10} {\"------\":<10}')\n",
    "    for i, token in enumerate(training_data[0][0]):\n",
    "        print(f'{token:<20} {tag_score_to_tag_name(tag_scores[i], ix_to_tag):<10} {test_data_sm[0][1][i]:<10}')"
   ]
  }
 ],
 "metadata": {
  "kernelspec": {
   "display_name": "Python 3",
   "language": "python",
   "name": "python3"
  },
  "language_info": {
   "codemirror_mode": {
    "name": "ipython",
    "version": 3
   },
   "file_extension": ".py",
   "mimetype": "text/x-python",
   "name": "python",
   "nbconvert_exporter": "python",
   "pygments_lexer": "ipython3",
   "version": "3.8.2"
  }
 },
 "nbformat": 4,
 "nbformat_minor": 4
}
